{
 "cells": [
  {
   "cell_type": "markdown",
   "metadata": {},
   "source": [
    "## Observations and Insights"
   ]
  },
  {
   "cell_type": "markdown",
   "metadata": {},
   "source": [
    "%matplotlib notebook"
   ]
  },
  {
   "cell_type": "markdown",
   "metadata": {},
   "source": [
    "## Dependencies and starter code"
   ]
  },
  {
   "cell_type": "markdown",
   "metadata": {},
   "source": [
    "# Observations\n",
    "\n",
    "1)\ti noticed that we had more data points gathered around the Capomulin drug regimen which will mean that we can better predict and draw conclusions that are closer to reality because we have more data points.\n",
    "2)\tI noticed a 25% decrease in the size of the tumor volume of a mice when they are treated with Capomulin which shows the effectiveness of the Drug. \n",
    "3)\tI also noticed that the Infubinol treatment regimen had the most outliers which could lead to less accurate calculations especially when trying to form a prediction model.\n",
    "\n"
   ]
  },
  {
   "cell_type": "code",
   "execution_count": 31,
   "metadata": {},
   "outputs": [
    {
     "data": {
      "text/html": [
       "<div>\n",
       "<style scoped>\n",
       "    .dataframe tbody tr th:only-of-type {\n",
       "        vertical-align: middle;\n",
       "    }\n",
       "\n",
       "    .dataframe tbody tr th {\n",
       "        vertical-align: top;\n",
       "    }\n",
       "\n",
       "    .dataframe thead th {\n",
       "        text-align: right;\n",
       "    }\n",
       "</style>\n",
       "<table border=\"1\" class=\"dataframe\">\n",
       "  <thead>\n",
       "    <tr style=\"text-align: right;\">\n",
       "      <th></th>\n",
       "      <th>Mouse ID</th>\n",
       "      <th>Timepoint</th>\n",
       "      <th>Tumor Volume (mm3)</th>\n",
       "      <th>Metastatic Sites</th>\n",
       "      <th>Drug Regimen</th>\n",
       "      <th>Sex</th>\n",
       "      <th>Age_months</th>\n",
       "      <th>Weight (g)</th>\n",
       "    </tr>\n",
       "  </thead>\n",
       "  <tbody>\n",
       "    <tr>\n",
       "      <th>0</th>\n",
       "      <td>b128</td>\n",
       "      <td>0</td>\n",
       "      <td>45.0</td>\n",
       "      <td>0</td>\n",
       "      <td>Capomulin</td>\n",
       "      <td>Female</td>\n",
       "      <td>9</td>\n",
       "      <td>22</td>\n",
       "    </tr>\n",
       "    <tr>\n",
       "      <th>1</th>\n",
       "      <td>f932</td>\n",
       "      <td>0</td>\n",
       "      <td>45.0</td>\n",
       "      <td>0</td>\n",
       "      <td>Ketapril</td>\n",
       "      <td>Male</td>\n",
       "      <td>15</td>\n",
       "      <td>29</td>\n",
       "    </tr>\n",
       "    <tr>\n",
       "      <th>2</th>\n",
       "      <td>g107</td>\n",
       "      <td>0</td>\n",
       "      <td>45.0</td>\n",
       "      <td>0</td>\n",
       "      <td>Ketapril</td>\n",
       "      <td>Female</td>\n",
       "      <td>2</td>\n",
       "      <td>29</td>\n",
       "    </tr>\n",
       "    <tr>\n",
       "      <th>3</th>\n",
       "      <td>a457</td>\n",
       "      <td>0</td>\n",
       "      <td>45.0</td>\n",
       "      <td>0</td>\n",
       "      <td>Ketapril</td>\n",
       "      <td>Female</td>\n",
       "      <td>11</td>\n",
       "      <td>30</td>\n",
       "    </tr>\n",
       "    <tr>\n",
       "      <th>4</th>\n",
       "      <td>c819</td>\n",
       "      <td>0</td>\n",
       "      <td>45.0</td>\n",
       "      <td>0</td>\n",
       "      <td>Ketapril</td>\n",
       "      <td>Male</td>\n",
       "      <td>21</td>\n",
       "      <td>25</td>\n",
       "    </tr>\n",
       "  </tbody>\n",
       "</table>\n",
       "</div>"
      ],
      "text/plain": [
       "  Mouse ID  Timepoint  Tumor Volume (mm3)  Metastatic Sites Drug Regimen  \\\n",
       "0     b128          0                45.0                 0    Capomulin   \n",
       "1     f932          0                45.0                 0     Ketapril   \n",
       "2     g107          0                45.0                 0     Ketapril   \n",
       "3     a457          0                45.0                 0     Ketapril   \n",
       "4     c819          0                45.0                 0     Ketapril   \n",
       "\n",
       "      Sex  Age_months  Weight (g)  \n",
       "0  Female           9          22  \n",
       "1    Male          15          29  \n",
       "2  Female           2          29  \n",
       "3  Female          11          30  \n",
       "4    Male          21          25  "
      ]
     },
     "execution_count": 31,
     "metadata": {},
     "output_type": "execute_result"
    }
   ],
   "source": [
    "# Dependencies and Setup\n",
    "#%matplotlib notebook\n",
    "import matplotlib.pyplot as plt\n",
    "import pandas as pd\n",
    "import scipy.stats as st\n",
    "import numpy as np \n",
    "\n",
    "# Study data files\n",
    "mouse_metadata = \"data/Mouse_metadata.csv\"\n",
    "study_results = \"data/Study_results.csv\"\n",
    "\n",
    "# Read the mouse data and the study results\n",
    "mouse_metadata = pd.read_csv(mouse_metadata)\n",
    "study_results = pd.read_csv(study_results)\n",
    "\n",
    "# Combine the data into a single dataset\n",
    "\n",
    "mouse_study = pd.merge(study_results,mouse_metadata, on = \"Mouse ID\",how = \"left\")\n",
    "mouse_study.head()"
   ]
  },
  {
   "cell_type": "markdown",
   "metadata": {},
   "source": [
    "## Summary statistics"
   ]
  },
  {
   "cell_type": "code",
   "execution_count": 25,
   "metadata": {},
   "outputs": [
    {
     "data": {
      "text/html": [
       "<div>\n",
       "<style scoped>\n",
       "    .dataframe tbody tr th:only-of-type {\n",
       "        vertical-align: middle;\n",
       "    }\n",
       "\n",
       "    .dataframe tbody tr th {\n",
       "        vertical-align: top;\n",
       "    }\n",
       "\n",
       "    .dataframe thead th {\n",
       "        text-align: right;\n",
       "    }\n",
       "</style>\n",
       "<table border=\"1\" class=\"dataframe\">\n",
       "  <thead>\n",
       "    <tr style=\"text-align: right;\">\n",
       "      <th></th>\n",
       "      <th>mean</th>\n",
       "      <th>Median</th>\n",
       "      <th>varaince</th>\n",
       "      <th>std</th>\n",
       "      <th>SEM</th>\n",
       "    </tr>\n",
       "    <tr>\n",
       "      <th>Drug Regimen</th>\n",
       "      <th></th>\n",
       "      <th></th>\n",
       "      <th></th>\n",
       "      <th></th>\n",
       "      <th></th>\n",
       "    </tr>\n",
       "  </thead>\n",
       "  <tbody>\n",
       "    <tr>\n",
       "      <th>Capomulin</th>\n",
       "      <td>40.675741</td>\n",
       "      <td>41.56</td>\n",
       "      <td>24.947764</td>\n",
       "      <td>4.994774</td>\n",
       "      <td>0.329346</td>\n",
       "    </tr>\n",
       "    <tr>\n",
       "      <th>Ceftamin</th>\n",
       "      <td>52.591172</td>\n",
       "      <td>51.78</td>\n",
       "      <td>39.290177</td>\n",
       "      <td>6.268188</td>\n",
       "      <td>0.469821</td>\n",
       "    </tr>\n",
       "    <tr>\n",
       "      <th>Infubinol</th>\n",
       "      <td>52.884795</td>\n",
       "      <td>51.82</td>\n",
       "      <td>43.128684</td>\n",
       "      <td>6.567243</td>\n",
       "      <td>0.492236</td>\n",
       "    </tr>\n",
       "    <tr>\n",
       "      <th>Ketapril</th>\n",
       "      <td>55.235638</td>\n",
       "      <td>53.70</td>\n",
       "      <td>68.553577</td>\n",
       "      <td>8.279709</td>\n",
       "      <td>0.603860</td>\n",
       "    </tr>\n",
       "    <tr>\n",
       "      <th>Naftisol</th>\n",
       "      <td>54.331565</td>\n",
       "      <td>52.51</td>\n",
       "      <td>66.173479</td>\n",
       "      <td>8.134708</td>\n",
       "      <td>0.596466</td>\n",
       "    </tr>\n",
       "  </tbody>\n",
       "</table>\n",
       "</div>"
      ],
      "text/plain": [
       "                   mean  Median   varaince       std       SEM\n",
       "Drug Regimen                                                  \n",
       "Capomulin     40.675741   41.56  24.947764  4.994774  0.329346\n",
       "Ceftamin      52.591172   51.78  39.290177  6.268188  0.469821\n",
       "Infubinol     52.884795   51.82  43.128684  6.567243  0.492236\n",
       "Ketapril      55.235638   53.70  68.553577  8.279709  0.603860\n",
       "Naftisol      54.331565   52.51  66.173479  8.134708  0.596466"
      ]
     },
     "execution_count": 25,
     "metadata": {},
     "output_type": "execute_result"
    }
   ],
   "source": [
    "# Generate a summary statistics table of mean, median, variance, standard deviation, and SEM of the tumor volume for each regimen\n",
    "#putting the regimen and tumor into a df and soring by regimen\n",
    "#sorting out my df\n",
    "tumor_regimen = mouse_study[[\"Drug Regimen\",\"Tumor Volume (mm3)\"]]\n",
    "\n",
    "#soring df by drug regimen\n",
    "group_regimen = tumor_regimen.groupby([\"Drug Regimen\"])[\"Tumor Volume (mm3)\"].describe()\n",
    "\n",
    "\n",
    "group_regimen = group_regimen.drop(columns=[\"count\",'min', '25%', '50%', '75%', 'max'])\n",
    "#gettin the variance from the std\n",
    "group_regimen[\"varaince\"] = [x ** 2 for x in group_regimen[\"std\"]]\n",
    "\n",
    "#getting the median of the data series tumor volume \n",
    "group_regimen[\"Median\"] = round(tumor_regimen.groupby([\"Drug Regimen\"])[\"Tumor Volume (mm3)\"].median(),2)\n",
    "\n",
    "#sorting out the df\n",
    "group_regimen = group_regimen[['mean','Median','varaince', 'std']]\n",
    "\n",
    "#egtting the standard error of the df \n",
    "group_regimen[\"SEM\"] = tumor_regimen.groupby([\"Drug Regimen\"])[\"Tumor Volume (mm3)\"].sem()\n",
    "\n",
    "group_regimen.head()"
   ]
  },
  {
   "cell_type": "markdown",
   "metadata": {},
   "source": [
    "## Bar plots"
   ]
  },
  {
   "cell_type": "code",
   "execution_count": 29,
   "metadata": {},
   "outputs": [
    {
     "data": {
      "text/plain": [
       "Text(0.5, 1.0, 'standard calculation for each data pount')"
      ]
     },
     "execution_count": 29,
     "metadata": {},
     "output_type": "execute_result"
    },
    {
     "data": {
      "image/png": "[encoded data removed]",
      "text/plain": [
       "<Figure size 1440x216 with 1 Axes>"
      ]
     },
     "metadata": {
      "needs_background": "light"
     },
     "output_type": "display_data"
    }
   ],
   "source": [
    "# Generate a bar plot showing number of data points for each treatment regimen using pandas\n",
    "#ploting the bar charts of the df with pandas\n",
    "plot_bar = tumor_regimen.groupby([\"Drug Regimen\"])[\"Tumor Volume (mm3)\"].count()\n",
    "plot_bar.plot(kind=\"bar\", figsize=(20,3))\n",
    "plt.title(\"standard calculation for each data pount\")"
   ]
  },
  {
   "cell_type": "code",
   "execution_count": 19,
   "metadata": {},
   "outputs": [
    {
     "data": {
      "text/plain": [
       "([<matplotlib.axis.XTick at 0x253e338e400>,\n",
       "  <matplotlib.axis.XTick at 0x253e3445898>,\n",
       "  <matplotlib.axis.XTick at 0x253e3445c50>,\n",
       "  <matplotlib.axis.XTick at 0x253e3735a90>,\n",
       "  <matplotlib.axis.XTick at 0x253e3735f28>,\n",
       "  <matplotlib.axis.XTick at 0x253e374c438>,\n",
       "  <matplotlib.axis.XTick at 0x253e374c908>,\n",
       "  <matplotlib.axis.XTick at 0x253e374cdd8>,\n",
       "  <matplotlib.axis.XTick at 0x253e37542e8>,\n",
       "  <matplotlib.axis.XTick at 0x253e37547b8>],\n",
       " <a list of 10 Text xticklabel objects>)"
      ]
     },
     "execution_count": 19,
     "metadata": {},
     "output_type": "execute_result"
    },
    {
     "data": {
      "image/png": "[encoded data removed]",
      "text/plain": [
       "<Figure size 1440x216 with 1 Axes>"
      ]
     },
     "metadata": {
      "needs_background": "light"
     },
     "output_type": "display_data"
    }
   ],
   "source": [
    "# Generate a bar plot showing number of data points for each treatment regimen using pyplot\n",
    "#getting x axis\n",
    "x_axis = np.arange(len(group_regimen))\n",
    "\n",
    "#geting tick location values \n",
    "tick_locations = [ value for value in x_axis]\n",
    "\n",
    "#plotting bar chart\n",
    "plt.figure(figsize = (20,3))\n",
    "plt.bar(x_axis, tumor_regimen.groupby([\"Drug Regimen\"])[\"Tumor Volume (mm3)\"].count(), align = 'center')\n",
    "plt.ylabel(\"Data point count\")\n",
    "plt.xticks(tick_locations, group_regimen.index, rotation = 'vertical')"
   ]
  },
  {
   "cell_type": "markdown",
   "metadata": {},
   "source": [
    "## Pie plots"
   ]
  },
  {
   "cell_type": "code",
   "execution_count": 7,
   "metadata": {},
   "outputs": [
    {
     "data": {
      "image/png": "[encoded data removed]",
      "text/plain": [
       "<Figure size 432x288 with 1 Axes>"
      ]
     },
     "metadata": {},
     "output_type": "display_data"
    }
   ],
   "source": [
    "# Generate a pie plot showing the distribution of female versus male mice using pandas\n",
    "mouse_count = mouse_metadata[\"Sex\"].value_counts()\n",
    "mouse_count.plot(kind=\"pie\", autopct=\"%1.1f%%\")\n",
    "plt.title(\"Male vs Female\")\n",
    "plt.show()\n",
    "# plt.axes().set_ylabel('')\n"
   ]
  },
  {
   "cell_type": "code",
   "execution_count": null,
   "metadata": {},
   "outputs": [],
   "source": []
  },
  {
   "cell_type": "code",
   "execution_count": 8,
   "metadata": {
    "scrolled": true
   },
   "outputs": [
    {
     "data": {
      "text/plain": [
       "([<matplotlib.patches.Wedge at 0x253e2033c18>,\n",
       "  <matplotlib.patches.Wedge at 0x253e20415f8>],\n",
       " [Text(-1.0999781124353174, -0.006939175976765592, 'Male'),\n",
       "  Text(1.0999781124353174, 0.006939175976765457, 'Female')],\n",
       " [Text(-0.5999880613283548, -0.003785005078235777, '50.2%'),\n",
       "  Text(0.5999880613283548, 0.0037850050782357036, '49.8%')])"
      ]
     },
     "execution_count": 8,
     "metadata": {},
     "output_type": "execute_result"
    },
    {
     "data": {
      "image/png": "[encoded data removed]",
      "text/plain": [
       "<Figure size 432x288 with 1 Axes>"
      ]
     },
     "metadata": {},
     "output_type": "display_data"
    }
   ],
   "source": [
    "# Generate a pie plot showing the distribution of female versus male mice using pyplot\n",
    "mouse_count = mouse_metadata[\"Sex\"].value_counts()\n",
    "labels = [\"Female\", \"Male\"]\n",
    "# The colors of each section of the pie chart\n",
    "colors = [\"Blue\", \"orange\"] #colors \n",
    "explode = (0,0)  \n",
    "plt.pie(mouse_count.values, explode=explode, labels=mouse_count.index.values, colors=colors,\n",
    "         autopct=\"%1.1f%%\", shadow=True, startangle=90)"
   ]
  },
  {
   "cell_type": "markdown",
   "metadata": {},
   "source": [
    "## Quartiles, outliers and boxplots"
   ]
  },
  {
   "cell_type": "code",
   "execution_count": 17,
   "metadata": {},
   "outputs": [],
   "source": [
    "#sorting my data frame to get the needed columns for calculations\n",
    "final_tumor = mouse_study.groupby([\"Mouse ID\"])[[\"Timepoint\",\"Tumor Volume (mm3)\"]].max()\n",
    "final_tumor.reset_index()\n",
    "final_tumor\n",
    "final_merge = pd.merge(final_tumor, mouse_study[[\"Mouse ID\", \"Timepoint\", \"Drug Regimen\"]], on =[\"Mouse ID\",\"Timepoint\"], how =\"left\")\n",
    "\n",
    "\n",
    "\n",
    "final_tumor = mouse_study.groupby([\"Mouse ID\"])[[\"Timepoint\",\"Tumor Volume (mm3)\"]].max()\n",
    "final_tumor.reset_index()\n",
    "final_tumor\n",
    "final_merge = pd.merge(final_tumor, mouse_study[[\"Mouse ID\", \"Timepoint\", \"Drug Regimen\"]], on =[\"Mouse ID\",\"Timepoint\"], how =\"left\")\n"
   ]
  },
  {
   "cell_type": "code",
   "execution_count": 15,
   "metadata": {},
   "outputs": [
    {
     "name": "stdout",
     "output_type": "stream",
     "text": [
      "The of IQR of Capomulin is 1.75\n"
     ]
    },
    {
     "data": {
      "image/png": "[encoded data removed]",
      "text/plain": [
       "<Figure size 432x288 with 1 Axes>"
      ]
     },
     "metadata": {
      "needs_background": "light"
     },
     "output_type": "display_data"
    }
   ],
   "source": [
    "#filtering out Capomulin only\n",
    "sorted_regimen = final_merge.loc[(final_merge[\"Drug Regimen\"] == \"Capomulin\"),:]\n",
    "grouped_mouse = sorted_regimen.groupby([\"Drug Regimen\",\"Mouse ID\"])[[\"Tumor Volume (mm3)\"]].max()\n",
    "\n",
    "#calculating quartiles,boundaries and IQR\n",
    "quartiles = grouped_mouse[\"Tumor Volume (mm3)\"].quantile([.25,.5,.75])\n",
    "lowerq = quartiles[0.25] \n",
    "upperq = quartiles[0.75]\n",
    "iqr = round(upperq-lowerq,2)\n",
    "\n",
    "print (\"The of IQR of Capomulin is \" + str(iqr))\n",
    "\n",
    "#plotting boxplot \n",
    "fig1, ax1 = plt.subplots()\n",
    "ax1.set_title('Capomulin')\n",
    "ax1.set_ylabel(\"Tumor Volume (mm3)\")\n",
    "ax1.boxplot(grouped_mouse[\"Tumor Volume (mm3)\"])\n",
    "plt.show()"
   ]
  },
  {
   "cell_type": "code",
   "execution_count": 11,
   "metadata": {},
   "outputs": [
    {
     "name": "stdout",
     "output_type": "stream",
     "text": [
      "The of IQR of Ramicane is 1.34\n"
     ]
    },
    {
     "data": {
      "image/png": "[encoded data removed]",
      "text/plain": [
       "<Figure size 432x288 with 1 Axes>"
      ]
     },
     "metadata": {
      "needs_background": "light"
     },
     "output_type": "display_data"
    }
   ],
   "source": [
    "# Calculate the final tumor volume of each mouse across four of the most promising treatment regimens. Calculate the IQR and quantitatively determine if there are any potential outliers. \n",
    "#filtering out Ramicane only\n",
    "sorted_regimen = final_merge.loc[(final_merge[\"Drug Regimen\"] == \"Ramicane\"),:]\n",
    "                        \n",
    "grouped_mouse = sorted_regimen.groupby([\"Drug Regimen\",\"Mouse ID\"])[[\"Tumor Volume (mm3)\"]].max()\n",
    "\n",
    "#calculating quartiles,boundaries and IQR\n",
    "quartiles = grouped_mouse[\"Tumor Volume (mm3)\"].quantile([.25,.5,.75])\n",
    "lowerq = quartiles[0.25] \n",
    "upperq = quartiles[0.75]\n",
    "\n",
    "iqr = round(upperq-lowerq,2)\n",
    "\n",
    "print (\"The of IQR of Ramicane is \" + str(iqr))\n",
    "#plotting boxplot \n",
    "fig1, ax2 = plt.subplots()\n",
    "ax2.set_title('Ramicane')\n",
    "ax2.set_ylabel('Tumor Volume (mm3)')\n",
    "ax2.boxplot(grouped_mouse[\"Tumor Volume (mm3)\"])\n",
    "plt.show()"
   ]
  },
  {
   "cell_type": "code",
   "execution_count": 12,
   "metadata": {},
   "outputs": [
    {
     "name": "stdout",
     "output_type": "stream",
     "text": [
      "The of IQR of Infubinol is 11.48\n"
     ]
    },
    {
     "data": {
      "image/png": "[encoded data removed]",
      "text/plain": [
       "<Figure size 432x288 with 1 Axes>"
      ]
     },
     "metadata": {
      "needs_background": "light"
     },
     "output_type": "display_data"
    }
   ],
   "source": [
    "#filtering out Infubinolonly columns\n",
    "sorted_regimen = final_merge.loc[(final_merge[\"Drug Regimen\"] == \"Infubinol\"),:]\n",
    "                        \n",
    "grouped_mouse = sorted_regimen.groupby([\"Drug Regimen\",\"Mouse ID\"])[[\"Tumor Volume (mm3)\"]].max()\n",
    "\n",
    "#calculating quartiles,boundaries and IQR\n",
    "quartiles = grouped_mouse[\"Tumor Volume (mm3)\"].quantile([.25,.5,.75])\n",
    "lowerq = quartiles[0.25] \n",
    "upperq = quartiles[0.75]\n",
    "\n",
    "iqr = round(upperq-lowerq,2)\n",
    "\n",
    "print (\"The of IQR of Infubinol is \" + str(iqr))\n",
    "#plotting boxplot \n",
    "fig1, ax3 = plt.subplots()\n",
    "ax3.set_title('Infubinol')\n",
    "ax3.set_ylabel('Tumor Volume (mm3)')\n",
    "ax3.boxplot(grouped_mouse[\"Tumor Volume (mm3)\"])\n",
    "plt.show()"
   ]
  },
  {
   "cell_type": "code",
   "execution_count": 14,
   "metadata": {},
   "outputs": [
    {
     "name": "stdout",
     "output_type": "stream",
     "text": [
      "The of IQR of Ceftamin is 15.58\n"
     ]
    },
    {
     "data": {
      "image/png": "[encoded data removed]",
      "text/plain": [
       "<Figure size 432x288 with 1 Axes>"
      ]
     },
     "metadata": {
      "needs_background": "light"
     },
     "output_type": "display_data"
    }
   ],
   "source": [
    "# Calculate the final tumor volume of each mouse across four of the most promising treatment regimens. Calculate the IQR and quantitatively determine if there are any potential outliers. \n",
    "#filtering out Infubinolonly columns\n",
    "sorted_regimen = final_merge.loc[(final_merge[\"Drug Regimen\"] == \"Ceftamin\"),:]\n",
    "                        \n",
    "grouped_mouse = sorted_regimen.groupby([\"Drug Regimen\",\"Mouse ID\"])[[\"Tumor Volume (mm3)\"]].max()\n",
    "\n",
    "#calculating quartiles,boundaries and IQR\n",
    "quartiles = grouped_mouse[\"Tumor Volume (mm3)\"].quantile([.25,.5,.75])\n",
    "lowerq = quartiles[0.25] \n",
    "upperq = quartiles[0.75]\n",
    "\n",
    "lower_bound = lowerq - (1.5*iqr) \n",
    "upper_bound = upperq + (1.5*iqr)\n",
    "outliers = grouped_mouse.loc[(grouped_mouse[\"Tumor Volume (mm3)\"] < lower_bound), :]\n",
    "iqr = round(upperq-lowerq,2)\n",
    "#plotting boxplot \n",
    "fig1, ax4 = plt.subplots()\n",
    "ax4.set_title('Infubinol')\n",
    "ax4.set_ylabel('Tumor Volume (mm3)')\n",
    "ax4.boxplot(grouped_mouse[\"Tumor Volume (mm3)\"])\n",
    "\n",
    "print (\"The of IQR of Ceftamin is \" + str(iqr))"
   ]
  },
  {
   "cell_type": "code",
   "execution_count": 1,
   "metadata": {},
   "outputs": [],
   "source": [
    "# Generate a box plot of the final tumor volume of each mouse across four regimens of interest\n"
   ]
  },
  {
   "cell_type": "markdown",
   "metadata": {},
   "source": [
    "## Line and scatter plots"
   ]
  },
  {
   "cell_type": "code",
   "execution_count": 16,
   "metadata": {},
   "outputs": [
    {
     "data": {
      "text/plain": [
       "Text(0.5, 1.0, 'Capomulin treatment of mouse b128')"
      ]
     },
     "execution_count": 16,
     "metadata": {},
     "output_type": "execute_result"
    },
    {
     "data": {
      "image/png": "[encoded data removed]",
      "text/plain": [
       "<Figure size 432x288 with 1 Axes>"
      ]
     },
     "metadata": {
      "needs_background": "light"
     },
     "output_type": "display_data"
    }
   ],
   "source": [
    "# Generate a line plot of time point versus tumor volume for a mouse treated with Capomulin\n",
    "#fitering out Capomulin for a single mouse \n",
    "single_mouse = mouse_study.loc[(mouse_study[\"Mouse ID\"] == 'b128') & (mouse_study[\"Drug Regimen\"] == \"Capomulin\"), :]\n",
    "single_mouse\n",
    "\n",
    "#plotting the tumor volume against the time point\n",
    "plot_mouse  = plt.plot(single_mouse[\"Timepoint\"] ,\n",
    "                      single_mouse[\"Tumor Volume (mm3)\"] , color=\"red\", label= \"Mouse b128\", marker ='o')\n",
    "\n",
    "plt.ylabel(\"Tumor Volume (mm3)\")    \n",
    "plt.xlabel(\"Timepoint (days)\")  \n",
    "\n",
    "plt.title(\"Capomulin treatment of mouse b128\")"
   ]
  },
  {
   "cell_type": "code",
   "execution_count": 89,
   "metadata": {},
   "outputs": [
    {
     "data": {
      "text/plain": [
       "Text(0, 0.5, 'Average Tumor Volume (mm3)')"
      ]
     },
     "execution_count": 89,
     "metadata": {},
     "output_type": "execute_result"
    },
    {
     "data": {
      "image/png": "[encoded data removed]",
      "text/plain": [
       "<Figure size 432x288 with 1 Axes>"
      ]
     },
     "metadata": {
      "needs_background": "light"
     },
     "output_type": "display_data"
    }
   ],
   "source": [
    "# Generate a scatter plot of mouse weight versus average tumor volume for the Capomulin regimen\n",
    "#sorting out df for just capomulin\n",
    "capomulin_study = mouse_study.loc[(mouse_study[\"Drug Regimen\"] == \"Capomulin\"), :]\n",
    "\n",
    "#calculating the mean Tumor volume and weight\n",
    "group_capo = capomulin_study.groupby(\"Mouse ID\")[[\"Tumor Volume (mm3)\",\"Weight (g)\"]].mean()\n",
    "\n",
    "capomulin_study = group_capo\n",
    "\n",
    "# plotting the scatter plot for tumor volume against weight\n",
    "plt.scatter(capomulin_study[\"Weight (g)\"], capomulin_study[\"Tumor Volume (mm3)\"], marker=\"o\", facecolors=\"lightpink\", edgecolors=\"black\", alpha=0.75)\n",
    "plt.xlabel('Weight (g)')\n",
    "plt.ylabel('Average Tumor Volume (mm3)')\n"
   ]
  },
  {
   "cell_type": "code",
   "execution_count": 88,
   "metadata": {},
   "outputs": [
    {
     "data": {
      "image/png": "[encoded data removed]",
      "text/plain": [
       "<Figure size 432x288 with 1 Axes>"
      ]
     },
     "metadata": {
      "needs_background": "light"
     },
     "output_type": "display_data"
    },
    {
     "name": "stdout",
     "output_type": "stream",
     "text": [
      "The correlation coefficient is 0.8419363424694718\n",
      "The linear regression model is y = 0.95x + 21.55\n"
     ]
    }
   ],
   "source": [
    "# Calculate the correlation coefficient and linear regression model for mouse weight and average tumor volume for the Capomulin regimen\n",
    "#sorting y and xvalues \n",
    "x_values = capomulin_study[\"Weight (g)\"]\n",
    "y_values = capomulin_study[\"Tumor Volume (mm3)\"]\n",
    "#calling the linregress function \n",
    "(slope, intercept, rvalue, pvalue, stderr) = st.linregress(x_values, y_values)\n",
    "regress_values = x_values * slope + intercept\n",
    "#generating the line equation \n",
    "line_eq = \"y = \" + str(round(slope,2)) + \"x + \" + str(round(intercept,2))\n",
    "# plotting the values \n",
    "plt.scatter(x_values,y_values)\n",
    "plt.plot(x_values,regress_values,\"r-\")\n",
    "plt.annotate(line_eq, (18,30),fontsize=15,color=\"red\")\n",
    "plt.xlabel('Weight (g)')\n",
    "plt.ylabel('Tumor Volume (mm3)')\n",
    "plt.show()\n",
    "#printing results \n",
    "print(\"The correlation coefficient is \" + str(rvalue))\n",
    "print(\"The linear regression model is \" + str(line_eq))"
   ]
  },
  {
   "cell_type": "code",
   "execution_count": null,
   "metadata": {},
   "outputs": [],
   "source": []
  },
  {
   "cell_type": "code",
   "execution_count": null,
   "metadata": {},
   "outputs": [],
   "source": []
  },
  {
   "cell_type": "code",
   "execution_count": null,
   "metadata": {},
   "outputs": [],
   "source": []
  }
 ],
 "metadata": {
  "anaconda-cloud": {},
  "kernelspec": {
   "display_name": "Python 3",
   "language": "python",
   "name": "python3"
  },
  "language_info": {
   "codemirror_mode": {
    "name": "ipython",
    "version": 3
   },
   "file_extension": ".py",
   "mimetype": "text/x-python",
   "name": "python",
   "nbconvert_exporter": "python",
   "pygments_lexer": "ipython3",
   "version": "3.7.3"
  }
 },
 "nbformat": 4,
 "nbformat_minor": 4
}
